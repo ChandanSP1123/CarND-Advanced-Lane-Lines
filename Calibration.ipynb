{
 "cells": [
  {
   "cell_type": "code",
   "execution_count": 2,
   "metadata": {},
   "outputs": [],
   "source": [
    "import numpy as np\n",
    "import cv2\n",
    "import matplotlib.pyplot as plt\n",
    "import matplotlib.image as mpimg\n",
    "import glob\n",
    "import pickle\n",
    "\n",
    "\n",
    "\n",
    "# prepare object points\n",
    "nx = 9#number of inside corners in x\n",
    "ny = 6#number of inside corners in y\n",
    "\n",
    "images = glob.glob('camera_cal/calibration*.jpg')\n",
    "\n",
    "objPoints = []\n",
    "imgPoints = []\n",
    "\n",
    "\n",
    "objP = np.zeros((6*9,3),np.float32)\n",
    "objP[:,:2] = np.mgrid[0:9,0:6].T.reshape(-1,2)\n",
    "\n",
    "\n",
    "for idx, image in enumerate(images) :  \n",
    "    img = mpimg.imread(image)\n",
    "    grayscale = cv2.cvtColor(img , cv2.COLOR_BGR2GRAY)\n",
    "    #chess board corners\n",
    "    ret, corners = cv2.findChessboardCorners(grayscale , (nx,ny), None)\n",
    "    if ret == True :\n",
    "        cv2.drawChessboardCorners(img , (nx,ny), corners , ret)\n",
    "        imgPoints.append(corners)\n",
    "        objPoints.append(objP)\n",
    "ret, mtx, dist, rvecs, tvecs = cv2.calibrateCamera(objPoints, imgPoints, grayscale.shape[::-1], None, None)\n",
    "undist=cv2.undistort(img, mtx, dist, None, mtx)\n",
    "\n",
    "\n",
    "dist_pickle = {}\n",
    "dist_pickle[\"mtx\"]=mtx\n",
    "dist_pickle[\"dist\"]=dist\n",
    "pickle.dump(dist_pickle,open(\"camera_cal/calibration_pickle.p\",\"wb\"))"
   ]
  },
  {
   "cell_type": "code",
   "execution_count": 6,
   "metadata": {},
   "outputs": [],
   "source": [
    "def undist(image):\n",
    "    dist_pickle = pickle.load(open(\"camera_cal/calibration_pickle.p\",\"rb\"))\n",
    "    mtx = dist_pickle[\"mtx\"]\n",
    "    dist = dist_pickle[\"dist\"]    \n",
    "    result = cv2.undistort(image, mtx, dist, None, mtx)\n",
    "    return result\n",
    "\n",
    "\n",
    "images = glob.glob('camera_cal/calibration*.jpg')\n",
    "for idx,fname in enumerate(images):\n",
    "    img = cv2.imread(fname)\n",
    "    img = undist(img)\n",
    "    writename = 'output_images/Camera_cal/chessboard'+str(idx)+'.jpg'\n",
    "    cv2.imwrite(writename,img)\n",
    "\n",
    "    \n",
    "    \n"
   ]
  },
  {
   "cell_type": "code",
   "execution_count": null,
   "metadata": {},
   "outputs": [],
   "source": []
  }
 ],
 "metadata": {
  "kernelspec": {
   "display_name": "Python [conda env:SDEN]",
   "language": "python",
   "name": "conda-env-SDEN-py"
  },
  "language_info": {
   "codemirror_mode": {
    "name": "ipython",
    "version": 3
   },
   "file_extension": ".py",
   "mimetype": "text/x-python",
   "name": "python",
   "nbconvert_exporter": "python",
   "pygments_lexer": "ipython3",
   "version": "3.6.6"
  }
 },
 "nbformat": 4,
 "nbformat_minor": 2
}
